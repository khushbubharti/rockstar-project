{
 "cells": [
  {
   "cell_type": "code",
   "execution_count": 1,
   "metadata": {},
   "outputs": [],
   "source": [
    "import numpy as np\n",
    "import pandas as pd\n",
    "from matplotlib import pyplot as plt\n",
    "import seaborn as sns\n",
    "%matplotlib inline"
   ]
  },
  {
   "cell_type": "code",
   "execution_count": 2,
   "metadata": {},
   "outputs": [],
   "source": [
    "df = pd.read_csv('data/TechnologyIndex.csv')"
   ]
  },
  {
   "cell_type": "markdown",
   "metadata": {},
   "source": [
    "# 1 Remove \"$\" symbol from the entire data:"
   ]
  },
  {
   "cell_type": "code",
   "execution_count": 3,
   "metadata": {
    "scrolled": true
   },
   "outputs": [
    {
     "data": {
      "text/html": [
       "<div>\n",
       "<style scoped>\n",
       "    .dataframe tbody tr th:only-of-type {\n",
       "        vertical-align: middle;\n",
       "    }\n",
       "\n",
       "    .dataframe tbody tr th {\n",
       "        vertical-align: top;\n",
       "    }\n",
       "\n",
       "    .dataframe thead th {\n",
       "        text-align: right;\n",
       "    }\n",
       "</style>\n",
       "<table border=\"1\" class=\"dataframe\">\n",
       "  <thead>\n",
       "    <tr style=\"text-align: right;\">\n",
       "      <th></th>\n",
       "      <th>Rank</th>\n",
       "      <th>Country</th>\n",
       "      <th>iPhone</th>\n",
       "      <th>Android</th>\n",
       "      <th>MacBook</th>\n",
       "      <th>Windows Powered</th>\n",
       "      <th>PS4</th>\n",
       "      <th>Xbox one</th>\n",
       "      <th>iPad mini</th>\n",
       "      <th>Samsung tablet</th>\n",
       "      <th>40 inch smart TV</th>\n",
       "      <th>Apple Watch</th>\n",
       "      <th>Brand headphone</th>\n",
       "      <th>hard drive 2TB</th>\n",
       "      <th>Portable charger</th>\n",
       "      <th>Printer</th>\n",
       "    </tr>\n",
       "  </thead>\n",
       "  <tbody>\n",
       "    <tr>\n",
       "      <th>0</th>\n",
       "      <td>1</td>\n",
       "      <td>Kuwait</td>\n",
       "      <td>641.50</td>\n",
       "      <td>539.18</td>\n",
       "      <td>795.38</td>\n",
       "      <td>528.34</td>\n",
       "      <td>315.83</td>\n",
       "      <td>418.50</td>\n",
       "      <td>242.90</td>\n",
       "      <td>250.98</td>\n",
       "      <td>383.60</td>\n",
       "      <td>242.90</td>\n",
       "      <td>196.95</td>\n",
       "      <td>89.03</td>\n",
       "      <td>2.44</td>\n",
       "      <td>52.36</td>\n",
       "    </tr>\n",
       "    <tr>\n",
       "      <th>1</th>\n",
       "      <td>2</td>\n",
       "      <td>Saudi Arabia</td>\n",
       "      <td>513.86</td>\n",
       "      <td>699.61</td>\n",
       "      <td>1,054.98</td>\n",
       "      <td>686.88</td>\n",
       "      <td>317.86</td>\n",
       "      <td>254.24</td>\n",
       "      <td>380.47</td>\n",
       "      <td>152.44</td>\n",
       "      <td>406.93</td>\n",
       "      <td>381.48</td>\n",
       "      <td>338.22</td>\n",
       "      <td>114.27</td>\n",
       "      <td>4.83</td>\n",
       "      <td>30.03</td>\n",
       "    </tr>\n",
       "    <tr>\n",
       "      <th>2</th>\n",
       "      <td>3</td>\n",
       "      <td>Malaysia</td>\n",
       "      <td>532.06</td>\n",
       "      <td>631.66</td>\n",
       "      <td>1,010.31</td>\n",
       "      <td>1,022.67</td>\n",
       "      <td>299.83</td>\n",
       "      <td>355.47</td>\n",
       "      <td>232.87</td>\n",
       "      <td>354.99</td>\n",
       "      <td>324.87</td>\n",
       "      <td>248.43</td>\n",
       "      <td>175.48</td>\n",
       "      <td>116.16</td>\n",
       "      <td>11.41</td>\n",
       "      <td>108.69</td>\n",
       "    </tr>\n",
       "    <tr>\n",
       "      <th>3</th>\n",
       "      <td>4</td>\n",
       "      <td>Canada</td>\n",
       "      <td>555.25</td>\n",
       "      <td>625.04</td>\n",
       "      <td>1,118.10</td>\n",
       "      <td>1,081.40</td>\n",
       "      <td>274.25</td>\n",
       "      <td>233.14</td>\n",
       "      <td>237.34</td>\n",
       "      <td>392.89</td>\n",
       "      <td>364.30</td>\n",
       "      <td>259.21</td>\n",
       "      <td>159.71</td>\n",
       "      <td>87.12</td>\n",
       "      <td>9.24</td>\n",
       "      <td>57.13</td>\n",
       "    </tr>\n",
       "    <tr>\n",
       "      <th>4</th>\n",
       "      <td>5</td>\n",
       "      <td>United Arab Emirates</td>\n",
       "      <td>498.25</td>\n",
       "      <td>592.31</td>\n",
       "      <td>1,073.30</td>\n",
       "      <td>1,026.68</td>\n",
       "      <td>324.72</td>\n",
       "      <td>285.72</td>\n",
       "      <td>259.71</td>\n",
       "      <td>311.71</td>\n",
       "      <td>467.68</td>\n",
       "      <td>285.71</td>\n",
       "      <td>181.73</td>\n",
       "      <td>84.49</td>\n",
       "      <td>10.13</td>\n",
       "      <td>95.93</td>\n",
       "    </tr>\n",
       "  </tbody>\n",
       "</table>\n",
       "</div>"
      ],
      "text/plain": [
       "   Rank               Country  iPhone Android   MacBook Windows Powered  \\\n",
       "0     1                Kuwait  641.50  539.18    795.38          528.34   \n",
       "1     2          Saudi Arabia  513.86  699.61  1,054.98          686.88   \n",
       "2     3              Malaysia  532.06  631.66  1,010.31        1,022.67   \n",
       "3     4                Canada  555.25  625.04  1,118.10        1,081.40   \n",
       "4     5  United Arab Emirates  498.25  592.31  1,073.30        1,026.68   \n",
       "\n",
       "      PS4 Xbox one iPad mini Samsung tablet 40 inch smart TV Apple Watch  \\\n",
       "0  315.83   418.50    242.90         250.98           383.60      242.90   \n",
       "1  317.86   254.24    380.47         152.44           406.93      381.48   \n",
       "2  299.83   355.47    232.87         354.99           324.87      248.43   \n",
       "3  274.25   233.14    237.34         392.89           364.30      259.21   \n",
       "4  324.72   285.72    259.71         311.71           467.68      285.71   \n",
       "\n",
       "  Brand headphone hard drive 2TB Portable charger Printer  \n",
       "0          196.95          89.03             2.44   52.36  \n",
       "1          338.22         114.27             4.83   30.03  \n",
       "2          175.48         116.16            11.41  108.69  \n",
       "3          159.71          87.12             9.24   57.13  \n",
       "4          181.73          84.49            10.13   95.93  "
      ]
     },
     "execution_count": 3,
     "metadata": {},
     "output_type": "execute_result"
    }
   ],
   "source": [
    "df=df.replace('\\$','',regex=True)\n",
    "df.head()"
   ]
  },
  {
   "cell_type": "code",
   "execution_count": 4,
   "metadata": {},
   "outputs": [
    {
     "data": {
      "text/plain": [
       "Rank                  int64\n",
       "Country              object\n",
       "iPhone              float64\n",
       "Android             float64\n",
       "MacBook             float64\n",
       "Windows Powered     float64\n",
       "PS4                 float64\n",
       "Xbox one            float64\n",
       "iPad mini           float64\n",
       "Samsung tablet      float64\n",
       "40 inch smart TV    float64\n",
       "Apple Watch         float64\n",
       "Brand headphone     float64\n",
       "hard drive 2TB      float64\n",
       "Portable charger    float64\n",
       "Printer              object\n",
       "dtype: object"
      ]
     },
     "execution_count": 4,
     "metadata": {},
     "output_type": "execute_result"
    }
   ],
   "source": [
    "#Remove comma\n",
    "df=df.replace('\\,','',regex=True)\n",
    "#Datatype change\n",
    "df.iloc[:,2:15] = df.iloc[:,2:15].apply(pd.to_numeric)\n",
    "df.dtypes"
   ]
  },
  {
   "cell_type": "markdown",
   "metadata": {},
   "source": [
    "# 4 Use dataframe slicing to return countries : \"Spain, Pakistan, Colombia, Germany\" with devices : \"Xbox one,Portable charger\"."
   ]
  },
  {
   "cell_type": "code",
   "execution_count": 5,
   "metadata": {},
   "outputs": [
    {
     "data": {
      "text/html": [
       "<div>\n",
       "<style scoped>\n",
       "    .dataframe tbody tr th:only-of-type {\n",
       "        vertical-align: middle;\n",
       "    }\n",
       "\n",
       "    .dataframe tbody tr th {\n",
       "        vertical-align: top;\n",
       "    }\n",
       "\n",
       "    .dataframe thead th {\n",
       "        text-align: right;\n",
       "    }\n",
       "</style>\n",
       "<table border=\"1\" class=\"dataframe\">\n",
       "  <thead>\n",
       "    <tr style=\"text-align: right;\">\n",
       "      <th></th>\n",
       "      <th>Country</th>\n",
       "      <th>Xbox one</th>\n",
       "      <th>Portable charger</th>\n",
       "    </tr>\n",
       "  </thead>\n",
       "  <tbody>\n",
       "    <tr>\n",
       "      <th>12</th>\n",
       "      <td>Spain</td>\n",
       "      <td>447.16</td>\n",
       "      <td>3.71</td>\n",
       "    </tr>\n",
       "    <tr>\n",
       "      <th>13</th>\n",
       "      <td>Pakistan</td>\n",
       "      <td>315.28</td>\n",
       "      <td>7.12</td>\n",
       "    </tr>\n",
       "    <tr>\n",
       "      <th>14</th>\n",
       "      <td>Colombia</td>\n",
       "      <td>282.19</td>\n",
       "      <td>43.12</td>\n",
       "    </tr>\n",
       "    <tr>\n",
       "      <th>15</th>\n",
       "      <td>Germany</td>\n",
       "      <td>263.94</td>\n",
       "      <td>10.59</td>\n",
       "    </tr>\n",
       "  </tbody>\n",
       "</table>\n",
       "</div>"
      ],
      "text/plain": [
       "     Country  Xbox one  Portable charger\n",
       "12     Spain    447.16              3.71\n",
       "13  Pakistan    315.28              7.12\n",
       "14  Colombia    282.19             43.12\n",
       "15   Germany    263.94             10.59"
      ]
     },
     "execution_count": 5,
     "metadata": {},
     "output_type": "execute_result"
    }
   ],
   "source": [
    "spcg = df[df['Country'].isin(['Spain', 'Pakistan', 'Colombia', 'Germany'])] \n",
    "xbox_portablecharger = spcg[['Country','Xbox one','Portable charger']]\n",
    "xbox_portablecharger"
   ]
  },
  {
   "cell_type": "markdown",
   "metadata": {},
   "source": [
    "# 6 Trend followed between \"iPhone and Android\"\n"
   ]
  },
  {
   "cell_type": "code",
   "execution_count": 6,
   "metadata": {},
   "outputs": [
    {
     "data": {
      "text/html": [
       "<div>\n",
       "<style scoped>\n",
       "    .dataframe tbody tr th:only-of-type {\n",
       "        vertical-align: middle;\n",
       "    }\n",
       "\n",
       "    .dataframe tbody tr th {\n",
       "        vertical-align: top;\n",
       "    }\n",
       "\n",
       "    .dataframe thead th {\n",
       "        text-align: right;\n",
       "    }\n",
       "</style>\n",
       "<table border=\"1\" class=\"dataframe\">\n",
       "  <thead>\n",
       "    <tr style=\"text-align: right;\">\n",
       "      <th></th>\n",
       "      <th>iPhone</th>\n",
       "      <th>Android</th>\n",
       "    </tr>\n",
       "    <tr>\n",
       "      <th>Country</th>\n",
       "      <th></th>\n",
       "      <th></th>\n",
       "    </tr>\n",
       "  </thead>\n",
       "  <tbody>\n",
       "    <tr>\n",
       "      <th>Spain</th>\n",
       "      <td>686.14</td>\n",
       "      <td>634.83</td>\n",
       "    </tr>\n",
       "    <tr>\n",
       "      <th>Pakistan</th>\n",
       "      <td>537.97</td>\n",
       "      <td>720.33</td>\n",
       "    </tr>\n",
       "    <tr>\n",
       "      <th>Colombia</th>\n",
       "      <td>655.11</td>\n",
       "      <td>943.57</td>\n",
       "    </tr>\n",
       "    <tr>\n",
       "      <th>Germany</th>\n",
       "      <td>613.74</td>\n",
       "      <td>719.74</td>\n",
       "    </tr>\n",
       "  </tbody>\n",
       "</table>\n",
       "</div>"
      ],
      "text/plain": [
       "          iPhone  Android\n",
       "Country                  \n",
       "Spain     686.14   634.83\n",
       "Pakistan  537.97   720.33\n",
       "Colombia  655.11   943.57\n",
       "Germany   613.74   719.74"
      ]
     },
     "execution_count": 6,
     "metadata": {},
     "output_type": "execute_result"
    }
   ],
   "source": [
    "# Select iPhone and Android columns from spgd dataframe and save it as new dataframe named android_iphone\n",
    "spcg = spcg.set_index('Country')\n",
    "android_iphone = spcg[['iPhone','Android']]\n",
    "android_iphone"
   ]
  },
  {
   "cell_type": "code",
   "execution_count": 7,
   "metadata": {},
   "outputs": [
    {
     "data": {
      "text/plain": [
       "iPhone     float64\n",
       "Android    float64\n",
       "dtype: object"
      ]
     },
     "execution_count": 7,
     "metadata": {},
     "output_type": "execute_result"
    }
   ],
   "source": [
    "#remove comma from android_iphone dataframe and then convert its columns into float\n",
    "android_iphone=android_iphone.replace('\\,','',regex=True)\n",
    "android_iphone = android_iphone.astype(float)\n",
    "android_iphone.dtypes"
   ]
  },
  {
   "cell_type": "code",
   "execution_count": 8,
   "metadata": {},
   "outputs": [
    {
     "data": {
      "text/plain": [
       "<matplotlib.axes._subplots.AxesSubplot at 0x22353da63c8>"
      ]
     },
     "execution_count": 8,
     "metadata": {},
     "output_type": "execute_result"
    },
    {
     "data": {
      "image/png": "[encoded data removed]",
      "text/plain": [
       "<Figure size 432x288 with 1 Axes>"
      ]
     },
     "metadata": {
      "needs_background": "light"
     },
     "output_type": "display_data"
    }
   ],
   "source": [
    "#plot the graph with countries on X axis and Sale total (in $) on Y axis\n",
    "android_iphone.plot(grid = True)"
   ]
  },
  {
   "cell_type": "markdown",
   "metadata": {},
   "source": [
    "# 3 What device has the most unpredictable trend?"
   ]
  },
  {
   "cell_type": "code",
   "execution_count": 9,
   "metadata": {},
   "outputs": [],
   "source": [
    "X=df.iloc[:,0]\n",
    "Y=df.iloc[:,1]"
   ]
  },
  {
   "cell_type": "code",
   "execution_count": 10,
   "metadata": {},
   "outputs": [
    {
     "data": {
      "image/png": "[encoded data removed]",
      "text/plain": [
       "<Figure size 432x288 with 1 Axes>"
      ]
     },
     "metadata": {
      "needs_background": "light"
     },
     "output_type": "display_data"
    }
   ],
   "source": [
    "plt.scatter(X,Y,color = 'r',label = 'actual points')\n",
    "plt.legend()\n",
    "plt.show()"
   ]
  },
  {
   "cell_type": "markdown",
   "metadata": {},
   "source": [
    "# 5 Country earning most and least by selling them"
   ]
  },
  {
   "cell_type": "code",
   "execution_count": 11,
   "metadata": {
    "scrolled": true
   },
   "outputs": [
    {
     "data": {
      "text/html": [
       "<div>\n",
       "<style scoped>\n",
       "    .dataframe tbody tr th:only-of-type {\n",
       "        vertical-align: middle;\n",
       "    }\n",
       "\n",
       "    .dataframe tbody tr th {\n",
       "        vertical-align: top;\n",
       "    }\n",
       "\n",
       "    .dataframe thead th {\n",
       "        text-align: right;\n",
       "    }\n",
       "</style>\n",
       "<table border=\"1\" class=\"dataframe\">\n",
       "  <thead>\n",
       "    <tr style=\"text-align: right;\">\n",
       "      <th></th>\n",
       "      <th>Rank</th>\n",
       "      <th>Country</th>\n",
       "      <th>iPhone</th>\n",
       "      <th>Android</th>\n",
       "      <th>MacBook</th>\n",
       "      <th>Windows Powered</th>\n",
       "      <th>PS4</th>\n",
       "      <th>Xbox one</th>\n",
       "      <th>iPad mini</th>\n",
       "      <th>Samsung tablet</th>\n",
       "      <th>40 inch smart TV</th>\n",
       "      <th>Apple Watch</th>\n",
       "      <th>Brand headphone</th>\n",
       "      <th>hard drive 2TB</th>\n",
       "      <th>Portable charger</th>\n",
       "      <th>Printer</th>\n",
       "      <th>Sum Total</th>\n",
       "    </tr>\n",
       "  </thead>\n",
       "  <tbody>\n",
       "    <tr>\n",
       "      <th>0</th>\n",
       "      <td>1</td>\n",
       "      <td>Kuwait</td>\n",
       "      <td>641.50</td>\n",
       "      <td>539.18</td>\n",
       "      <td>795.38</td>\n",
       "      <td>528.34</td>\n",
       "      <td>315.83</td>\n",
       "      <td>418.50</td>\n",
       "      <td>242.90</td>\n",
       "      <td>250.98</td>\n",
       "      <td>383.60</td>\n",
       "      <td>242.90</td>\n",
       "      <td>196.95</td>\n",
       "      <td>89.03</td>\n",
       "      <td>2.44</td>\n",
       "      <td>52.36</td>\n",
       "      <td>4647.53</td>\n",
       "    </tr>\n",
       "    <tr>\n",
       "      <th>1</th>\n",
       "      <td>2</td>\n",
       "      <td>Saudi Arabia</td>\n",
       "      <td>513.86</td>\n",
       "      <td>699.61</td>\n",
       "      <td>1054.98</td>\n",
       "      <td>686.88</td>\n",
       "      <td>317.86</td>\n",
       "      <td>254.24</td>\n",
       "      <td>380.47</td>\n",
       "      <td>152.44</td>\n",
       "      <td>406.93</td>\n",
       "      <td>381.48</td>\n",
       "      <td>338.22</td>\n",
       "      <td>114.27</td>\n",
       "      <td>4.83</td>\n",
       "      <td>30.03</td>\n",
       "      <td>5306.07</td>\n",
       "    </tr>\n",
       "    <tr>\n",
       "      <th>2</th>\n",
       "      <td>3</td>\n",
       "      <td>Malaysia</td>\n",
       "      <td>532.06</td>\n",
       "      <td>631.66</td>\n",
       "      <td>1010.31</td>\n",
       "      <td>1022.67</td>\n",
       "      <td>299.83</td>\n",
       "      <td>355.47</td>\n",
       "      <td>232.87</td>\n",
       "      <td>354.99</td>\n",
       "      <td>324.87</td>\n",
       "      <td>248.43</td>\n",
       "      <td>175.48</td>\n",
       "      <td>116.16</td>\n",
       "      <td>11.41</td>\n",
       "      <td>108.69</td>\n",
       "      <td>5316.21</td>\n",
       "    </tr>\n",
       "    <tr>\n",
       "      <th>3</th>\n",
       "      <td>4</td>\n",
       "      <td>Canada</td>\n",
       "      <td>555.25</td>\n",
       "      <td>625.04</td>\n",
       "      <td>1118.10</td>\n",
       "      <td>1081.40</td>\n",
       "      <td>274.25</td>\n",
       "      <td>233.14</td>\n",
       "      <td>237.34</td>\n",
       "      <td>392.89</td>\n",
       "      <td>364.30</td>\n",
       "      <td>259.21</td>\n",
       "      <td>159.71</td>\n",
       "      <td>87.12</td>\n",
       "      <td>9.24</td>\n",
       "      <td>57.13</td>\n",
       "      <td>5396.99</td>\n",
       "    </tr>\n",
       "    <tr>\n",
       "      <th>4</th>\n",
       "      <td>5</td>\n",
       "      <td>United Arab Emirates</td>\n",
       "      <td>498.25</td>\n",
       "      <td>592.31</td>\n",
       "      <td>1073.30</td>\n",
       "      <td>1026.68</td>\n",
       "      <td>324.72</td>\n",
       "      <td>285.72</td>\n",
       "      <td>259.71</td>\n",
       "      <td>311.71</td>\n",
       "      <td>467.68</td>\n",
       "      <td>285.71</td>\n",
       "      <td>181.73</td>\n",
       "      <td>84.49</td>\n",
       "      <td>10.13</td>\n",
       "      <td>95.93</td>\n",
       "      <td>5402.14</td>\n",
       "    </tr>\n",
       "  </tbody>\n",
       "</table>\n",
       "</div>"
      ],
      "text/plain": [
       "   Rank               Country  iPhone  Android  MacBook  Windows Powered  \\\n",
       "0     1                Kuwait  641.50   539.18   795.38           528.34   \n",
       "1     2          Saudi Arabia  513.86   699.61  1054.98           686.88   \n",
       "2     3              Malaysia  532.06   631.66  1010.31          1022.67   \n",
       "3     4                Canada  555.25   625.04  1118.10          1081.40   \n",
       "4     5  United Arab Emirates  498.25   592.31  1073.30          1026.68   \n",
       "\n",
       "      PS4  Xbox one  iPad mini  Samsung tablet  40 inch smart TV  Apple Watch  \\\n",
       "0  315.83    418.50     242.90          250.98            383.60       242.90   \n",
       "1  317.86    254.24     380.47          152.44            406.93       381.48   \n",
       "2  299.83    355.47     232.87          354.99            324.87       248.43   \n",
       "3  274.25    233.14     237.34          392.89            364.30       259.21   \n",
       "4  324.72    285.72     259.71          311.71            467.68       285.71   \n",
       "\n",
       "   Brand headphone  hard drive 2TB  Portable charger Printer  Sum Total  \n",
       "0           196.95           89.03              2.44   52.36    4647.53  \n",
       "1           338.22          114.27              4.83   30.03    5306.07  \n",
       "2           175.48          116.16             11.41  108.69    5316.21  \n",
       "3           159.71           87.12              9.24   57.13    5396.99  \n",
       "4           181.73           84.49             10.13   95.93    5402.14  "
      ]
     },
     "execution_count": 11,
     "metadata": {},
     "output_type": "execute_result"
    }
   ],
   "source": [
    "#add a column named sum to store the sum of all the electronics and gadgets of a row\n",
    "df['Sum Total']= df.iloc[:, 2:15].sum(axis=1)\n",
    "df.head()"
   ]
  },
  {
   "cell_type": "code",
   "execution_count": 12,
   "metadata": {},
   "outputs": [
    {
     "data": {
      "text/plain": [
       "'Angola'"
      ]
     },
     "execution_count": 12,
     "metadata": {},
     "output_type": "execute_result"
    }
   ],
   "source": [
    "#Country earning least by selling them\n",
    "df.min()['Country']"
   ]
  },
  {
   "cell_type": "code",
   "execution_count": 13,
   "metadata": {},
   "outputs": [
    {
     "data": {
      "text/plain": [
       "'Vietnam'"
      ]
     },
     "execution_count": 13,
     "metadata": {},
     "output_type": "execute_result"
    }
   ],
   "source": [
    "#Country earning most by selling them\n",
    "df.max()['Country']"
   ]
  },
  {
   "cell_type": "markdown",
   "metadata": {},
   "source": [
    "# 2 What is the trend followed in apple series."
   ]
  },
  {
   "cell_type": "code",
   "execution_count": 14,
   "metadata": {
    "scrolled": true
   },
   "outputs": [
    {
     "data": {
      "text/html": [
       "<div>\n",
       "<style scoped>\n",
       "    .dataframe tbody tr th:only-of-type {\n",
       "        vertical-align: middle;\n",
       "    }\n",
       "\n",
       "    .dataframe tbody tr th {\n",
       "        vertical-align: top;\n",
       "    }\n",
       "\n",
       "    .dataframe thead th {\n",
       "        text-align: right;\n",
       "    }\n",
       "</style>\n",
       "<table border=\"1\" class=\"dataframe\">\n",
       "  <thead>\n",
       "    <tr style=\"text-align: right;\">\n",
       "      <th></th>\n",
       "      <th>iPhone</th>\n",
       "      <th>MacBook</th>\n",
       "      <th>iPad mini</th>\n",
       "      <th>Apple Watch</th>\n",
       "    </tr>\n",
       "    <tr>\n",
       "      <th>Country</th>\n",
       "      <th></th>\n",
       "      <th></th>\n",
       "      <th></th>\n",
       "      <th></th>\n",
       "    </tr>\n",
       "  </thead>\n",
       "  <tbody>\n",
       "    <tr>\n",
       "      <th>Spain</th>\n",
       "      <td>686.14</td>\n",
       "      <td>1535.94</td>\n",
       "      <td>311.64</td>\n",
       "      <td>326.37</td>\n",
       "    </tr>\n",
       "    <tr>\n",
       "      <th>Pakistan</th>\n",
       "      <td>537.97</td>\n",
       "      <td>1048.64</td>\n",
       "      <td>292.42</td>\n",
       "      <td>319.84</td>\n",
       "    </tr>\n",
       "    <tr>\n",
       "      <th>Colombia</th>\n",
       "      <td>655.11</td>\n",
       "      <td>909.56</td>\n",
       "      <td>251.01</td>\n",
       "      <td>366.83</td>\n",
       "    </tr>\n",
       "    <tr>\n",
       "      <th>Germany</th>\n",
       "      <td>613.74</td>\n",
       "      <td>1588.94</td>\n",
       "      <td>306.34</td>\n",
       "      <td>338.14</td>\n",
       "    </tr>\n",
       "  </tbody>\n",
       "</table>\n",
       "</div>"
      ],
      "text/plain": [
       "          iPhone  MacBook  iPad mini  Apple Watch\n",
       "Country                                          \n",
       "Spain     686.14  1535.94     311.64       326.37\n",
       "Pakistan  537.97  1048.64     292.42       319.84\n",
       "Colombia  655.11   909.56     251.01       366.83\n",
       "Germany   613.74  1588.94     306.34       338.14"
      ]
     },
     "execution_count": 14,
     "metadata": {},
     "output_type": "execute_result"
    }
   ],
   "source": [
    "apple_series_df = spcg[['iPhone','MacBook','iPad mini','Apple Watch']]\n",
    "apple_series_df"
   ]
  },
  {
   "cell_type": "code",
   "execution_count": 15,
   "metadata": {
    "scrolled": true
   },
   "outputs": [
    {
     "data": {
      "text/plain": [
       "<matplotlib.axes._subplots.AxesSubplot at 0x2235526efd0>"
      ]
     },
     "execution_count": 15,
     "metadata": {},
     "output_type": "execute_result"
    },
    {
     "data": {
      "image/png": "[encoded data removed]",
      "text/plain": [
       "<Figure size 432x288 with 1 Axes>"
      ]
     },
     "metadata": {
      "needs_background": "light"
     },
     "output_type": "display_data"
    }
   ],
   "source": [
    "apple_series_df.plot(grid = True)"
   ]
  }
 ],
 "metadata": {
  "kernelspec": {
   "display_name": "Python 3",
   "language": "python",
   "name": "python3"
  },
  "language_info": {
   "codemirror_mode": {
    "name": "ipython",
    "version": 3
   },
   "file_extension": ".py",
   "mimetype": "text/x-python",
   "name": "python",
   "nbconvert_exporter": "python",
   "pygments_lexer": "ipython3",
   "version": "3.7.3"
  }
 },
 "nbformat": 4,
 "nbformat_minor": 2
}
